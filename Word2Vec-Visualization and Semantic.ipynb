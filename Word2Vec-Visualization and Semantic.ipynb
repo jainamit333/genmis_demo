{
 "cells": [
  {
   "cell_type": "code",
   "execution_count": 1,
   "metadata": {
    "collapsed": true
   },
   "outputs": [],
   "source": [
    "from __future__ import absolute_import, division, print_function"
   ]
  },
  {
   "cell_type": "code",
   "execution_count": 2,
   "metadata": {
    "collapsed": true
   },
   "outputs": [],
   "source": [
    "import codecs\n",
    "import glob\n",
    "import logging\n",
    "import multiprocessing\n",
    "import os\n",
    "import pprint\n",
    "import re"
   ]
  },
  {
   "cell_type": "code",
   "execution_count": 5,
   "metadata": {
    "collapsed": false
   },
   "outputs": [],
   "source": [
    "import nltk\n",
    "import gensim.models.word2vec as w2v\n",
    "import sklearn.manifold\n",
    "import numpy as np\n",
    "import matplotlib.pyplot as plt\n",
    "import pandas as pd\n",
    "import seaborn as sns"
   ]
  },
  {
   "cell_type": "code",
   "execution_count": 93,
   "metadata": {
    "collapsed": false
   },
   "outputs": [
    {
     "name": "stdout",
     "output_type": "stream",
     "text": [
      "Populating the interactive namespace from numpy and matplotlib\n"
     ]
    },
    {
     "name": "stderr",
     "output_type": "stream",
     "text": [
      "/Users/amitjain/anaconda/envs/py3/lib/python3.6/site-packages/IPython/core/magics/pylab.py:161: UserWarning: pylab import has clobbered these variables: ['seed']\n",
      "`%matplotlib` prevents importing * from pylab and numpy\n",
      "  \"\\n`%matplotlib` prevents importing * from pylab and numpy\"\n"
     ]
    }
   ],
   "source": [
    "%pylab inline"
   ]
  },
  {
   "cell_type": "code",
   "execution_count": 6,
   "metadata": {
    "collapsed": true
   },
   "outputs": [],
   "source": [
    "logging.basicConfig(format='%(asctime)s : %(levelname)s : %(message)s', level=logging.INFO)"
   ]
  },
  {
   "cell_type": "code",
   "execution_count": 7,
   "metadata": {
    "collapsed": false
   },
   "outputs": [
    {
     "name": "stdout",
     "output_type": "stream",
     "text": [
      "[nltk_data] Downloading package punkt to /Users/amitjain/nltk_data...\n",
      "[nltk_data]   Package punkt is already up-to-date!\n",
      "[nltk_data] Downloading package stopwords to\n",
      "[nltk_data]     /Users/amitjain/nltk_data...\n",
      "[nltk_data]   Unzipping corpora/stopwords.zip.\n"
     ]
    },
    {
     "data": {
      "text/plain": [
       "True"
      ]
     },
     "execution_count": 7,
     "metadata": {},
     "output_type": "execute_result"
    }
   ],
   "source": [
    "nltk.download(\"punkt\")\n",
    "nltk.download(\"stopwords\")"
   ]
  },
  {
   "cell_type": "code",
   "execution_count": 8,
   "metadata": {
    "collapsed": true
   },
   "outputs": [],
   "source": [
    "data_path = 'data/'"
   ]
  },
  {
   "cell_type": "code",
   "execution_count": 19,
   "metadata": {
    "collapsed": true
   },
   "outputs": [],
   "source": [
    "data_filename = sorted(glob.glob(data_path+\"/*.txt\"))"
   ]
  },
  {
   "cell_type": "code",
   "execution_count": 20,
   "metadata": {
    "collapsed": false
   },
   "outputs": [
    {
     "name": "stdout",
     "output_type": "stream",
     "text": [
      "['data/document1.txt', 'data/document2.txt']\n"
     ]
    }
   ],
   "source": [
    "print(data_filename)"
   ]
  },
  {
   "cell_type": "code",
   "execution_count": 22,
   "metadata": {
    "collapsed": false
   },
   "outputs": [
    {
     "name": "stdout",
     "output_type": "stream",
     "text": [
      "Corpus is now 2571 characters long\n",
      "\n",
      "Corpus is now 4943 characters long\n",
      "\n"
     ]
    }
   ],
   "source": [
    "corpus_raw = u\"\"\n",
    "for data_file in data_filename:\n",
    "    with codecs.open(data_file, \"r\", \"utf-8\") as book_file:\n",
    "        corpus_raw += book_file.read()\n",
    "    print(\"Corpus is now {0} characters long\".format(len(corpus_raw)))\n",
    "    print()"
   ]
  },
  {
   "cell_type": "code",
   "execution_count": 23,
   "metadata": {
    "collapsed": false
   },
   "outputs": [
    {
     "name": "stdout",
     "output_type": "stream",
     "text": [
      "Born and raised in the Austrian Empire, Tesla received an advanced education in engineering and physics in the 1870s and gained practical experience in the early 1880s working in telephony and at Continental Edison in the new electric power industry. He emigrated to the United States in 1884, where he would become a naturalized citizen. He worked for a short time at the Edison Machine Works in New York City before he struck out on his own. With the help of partners to finance and market his ideas, Tesla set up laboratories and companies in New York to develop a range of electrical and mechanical devices. His alternating current (AC) induction motor and related polyphase AC patents, licensed by Westinghouse Electric in 1888, earned him a considerable amount of money and became the cornerstone of the polyphase system which that company would eventually market.\n",
      "\n",
      "Attempting to develop inventions he could patent and market, Tesla conducted a range of experiments with mechanical oscillators/generators, electrical discharge tubes, and early X-ray imaging. He also built a wireless-controlled boat, one of the first ever exhibited. Tesla became well known as an inventor and would demonstrate his achievements to celebrities and wealthy patrons at his lab, and was noted for his showmanship at public lectures.\n",
      "\n",
      "Throughout the 1890s, Tesla would pursue his ideas for wireless lighting and worldwide wireless electric power distribution in his high-voltage, high-frequency power experiments in New York and Colorado Springs. In 1893, he made pronouncements on the possibility of wireless communication with his devices. Tesla tried to put these ideas to practical use in his unfinished Wardenclyffe Tower project, an intercontinental wireless communication and power transmitter, but ran out of funding before he could complete it.[6]\n",
      "\n",
      "After Wardenclyffe, Tesla went on to try to develop a series of inventions in the 1910s and 1920s with varying degrees of success. Having spent most of his money, he lived in a series of New York hotels, leaving behind unpaid bills. The nature of his earlier work and the pronouncements he made to the press later in life earned him the reputation of an archetypal \"mad scientist\" in American popular culture.[7] Tesla died in New York City in January 1943.[8] His work fell into relative obscurity following his death, but in 1960, the General Conference on Weights and Measures named the SI unit of magnetic flux density the tesla in his honor.[9] There has been a resurgence in popular interest in Tesla since the 1990s.[10]\n",
      "Jobs was the chairman, and the chief executive officer (CEO), and a co-founder of Apple Inc.; CEO and majority shareholder of Pixar;[2] a member of The Walt Disney Company's board of directors following its acquisition of Pixar; and founder, chairman, and CEO of NeXT. Jobs and Apple co-founder Steve Wozniak are widely recognized as pioneers of the microcomputer revolution of the 1970s and 1980s.\n",
      "\n",
      "He was born in San Francisco to parents who had to put him up for adoption at birth; he was raised in the San Francisco Bay Area during the 1960s. [3] Jobs then attended Reed College in 1972 before dropping out [4], and decided to travel through India in 1974 seeking enlightenment and studying Zen Buddhism.[5] Jobs's declassified FBI report stated that an acquaintance knew that Jobs had used marijuana (the formerly illegalized drug in California), and LSD while he was in college.[6] Jobs once told a reporter that taking LSD was \"one of the two or three most important things\" he did in his life.[7]\n",
      "\n",
      "Jobs and Wozniak co-founded Apple in 1976 to sell Wozniak's Apple I personal computer. The visionaries gained fame and wealth a year later for the Apple II, one of the first highly successful mass-produced personal computers. In 1979, after a tour of PARC, Jobs saw the commercial potential of the Xerox Alto, which was mouse-driven and had a graphical user interface (GUI). This led to development of the unsuccessful Apple Lisa in 1983, followed by the breakthrough Macintosh in 1984. In addition to being the first mass-produced computer with a GUI, the Macintosh introduced the sudden rise of the desktop publishing industry in 1985 with the addition of the Apple LaserWriter, the first laser printer to feature vector graphics. Following a long power struggle, Jobs was forced out of Apple in 1985.[8]\n",
      "\n",
      "After leaving Apple, Jobs took a few of its members with him to found NeXT, a computer platform development company that specialized in state-of-the-art computers for higher-education and business markets. In addition, Jobs helped to initiate the development of the visual effects industry when he funded the spinout of the computer graphics division of George Lucas's Lucasfilm in 1986.[9] The new company, Pixar, would eventually produce the first fully computer-animated film, Toy Story—an event made possible in part because of Jobs's financial support.\n",
      "\n"
     ]
    }
   ],
   "source": [
    "print(corpus_raw)"
   ]
  },
  {
   "cell_type": "code",
   "execution_count": 24,
   "metadata": {
    "collapsed": true
   },
   "outputs": [],
   "source": [
    "tokenizer = nltk.data.load('tokenizers/punkt/english.pickle')"
   ]
  },
  {
   "cell_type": "code",
   "execution_count": 25,
   "metadata": {
    "collapsed": true
   },
   "outputs": [],
   "source": [
    "raw_sentences = tokenizer.tokenize(corpus_raw)"
   ]
  },
  {
   "cell_type": "code",
   "execution_count": 27,
   "metadata": {
    "collapsed": false
   },
   "outputs": [
    {
     "name": "stdout",
     "output_type": "stream",
     "text": [
      "32\n"
     ]
    }
   ],
   "source": [
    "print(len(raw_sentences))"
   ]
  },
  {
   "cell_type": "code",
   "execution_count": 32,
   "metadata": {
    "collapsed": false
   },
   "outputs": [
    {
     "data": {
      "text/plain": [
       "'His alternating current (AC) induction motor and related polyphase AC patents, licensed by Westinghouse Electric in 1888, earned him a considerable amount of money and became the cornerstone of the polyphase system which that company would eventually market.'"
      ]
     },
     "execution_count": 32,
     "metadata": {},
     "output_type": "execute_result"
    }
   ],
   "source": [
    "raw_sentences[4]"
   ]
  },
  {
   "cell_type": "code",
   "execution_count": 33,
   "metadata": {
    "collapsed": true
   },
   "outputs": [],
   "source": [
    "def sentence_to_wordlist(raw):\n",
    "    clean = re.sub(\"[^a-zA-Z]\",\" \", raw)\n",
    "    words = clean.split()\n",
    "    return words"
   ]
  },
  {
   "cell_type": "code",
   "execution_count": 34,
   "metadata": {
    "collapsed": true
   },
   "outputs": [],
   "source": [
    "sentences = []\n",
    "for raw_sentence in raw_sentences:\n",
    "    if len(raw_sentence) > 0:\n",
    "        sentences.append(sentence_to_wordlist(raw_sentence))"
   ]
  },
  {
   "cell_type": "code",
   "execution_count": 36,
   "metadata": {
    "collapsed": false
   },
   "outputs": [
    {
     "name": "stdout",
     "output_type": "stream",
     "text": [
      "32\n"
     ]
    }
   ],
   "source": [
    "print(len(sentences))"
   ]
  },
  {
   "cell_type": "code",
   "execution_count": 37,
   "metadata": {
    "collapsed": false
   },
   "outputs": [
    {
     "name": "stdout",
     "output_type": "stream",
     "text": [
      "['His', 'alternating', 'current', 'AC', 'induction', 'motor', 'and', 'related', 'polyphase', 'AC', 'patents', 'licensed', 'by', 'Westinghouse', 'Electric', 'in', 'earned', 'him', 'a', 'considerable', 'amount', 'of', 'money', 'and', 'became', 'the', 'cornerstone', 'of', 'the', 'polyphase', 'system', 'which', 'that', 'company', 'would', 'eventually', 'market']\n"
     ]
    }
   ],
   "source": [
    "print(sentences[4])"
   ]
  },
  {
   "cell_type": "code",
   "execution_count": 39,
   "metadata": {
    "collapsed": false
   },
   "outputs": [],
   "source": [
    "total_token = sum([len(sen) for sen in sentences])"
   ]
  },
  {
   "cell_type": "code",
   "execution_count": 40,
   "metadata": {
    "collapsed": false
   },
   "outputs": [
    {
     "name": "stdout",
     "output_type": "stream",
     "text": [
      "802\n"
     ]
    }
   ],
   "source": [
    "print(total_token)"
   ]
  },
  {
   "cell_type": "code",
   "execution_count": 44,
   "metadata": {
    "collapsed": true
   },
   "outputs": [],
   "source": [
    "num_features = 20\n",
    "min_word_count = 3\n",
    "num_workers = multiprocessing.cpu_count()\n",
    "context_size = 5\n",
    "downsampling = 1e-3\n",
    "seed = 1"
   ]
  },
  {
   "cell_type": "code",
   "execution_count": 45,
   "metadata": {
    "collapsed": true
   },
   "outputs": [],
   "source": [
    "thrones2vec = w2v.Word2Vec(\n",
    "    sg=1,\n",
    "    seed=seed,\n",
    "    workers=num_workers,\n",
    "    size=num_features,\n",
    "    min_count=min_word_count,\n",
    "    window=context_size,\n",
    "    sample=downsampling\n",
    ")"
   ]
  },
  {
   "cell_type": "code",
   "execution_count": 47,
   "metadata": {
    "collapsed": false
   },
   "outputs": [
    {
     "name": "stderr",
     "output_type": "stream",
     "text": [
      "2017-08-19 16:43:10,051 : INFO : collecting all words and their counts\n",
      "2017-08-19 16:43:10,052 : INFO : PROGRESS: at sentence #0, processed 0 words, keeping 0 word types\n",
      "2017-08-19 16:43:10,053 : INFO : collected 388 word types from a corpus of 802 raw words and 32 sentences\n",
      "2017-08-19 16:43:10,054 : INFO : Loading a fresh vocabulary\n",
      "2017-08-19 16:43:10,054 : INFO : min_count=3 retains 47 unique words (12% of original 388, drops 341)\n",
      "2017-08-19 16:43:10,055 : INFO : min_count=3 leaves 406 word corpus (50% of original 802, drops 396)\n",
      "2017-08-19 16:43:10,056 : INFO : deleting the raw counts dictionary of 388 items\n",
      "2017-08-19 16:43:10,057 : INFO : sample=0.001 downsamples 47 most-common words\n",
      "2017-08-19 16:43:10,058 : INFO : downsampling leaves estimated 98 word corpus (24.1% of prior 406)\n",
      "2017-08-19 16:43:10,058 : INFO : estimated required memory for 47 words and 20 dimensions: 31020 bytes\n",
      "2017-08-19 16:43:10,059 : INFO : resetting layer weights\n"
     ]
    }
   ],
   "source": [
    "thrones2vec.build_vocab(sentences)"
   ]
  },
  {
   "cell_type": "code",
   "execution_count": 50,
   "metadata": {
    "collapsed": false
   },
   "outputs": [
    {
     "name": "stderr",
     "output_type": "stream",
     "text": [
      "2017-08-19 16:45:28,433 : INFO : training model with 8 workers on 47 vocabulary and 20 features, using sg=1 hs=0 sample=0.001 negative=5 window=5\n",
      "2017-08-19 16:45:28,437 : INFO : worker thread finished; awaiting finish of 7 more threads\n",
      "2017-08-19 16:45:28,438 : INFO : worker thread finished; awaiting finish of 6 more threads\n",
      "2017-08-19 16:45:28,439 : INFO : worker thread finished; awaiting finish of 5 more threads\n",
      "2017-08-19 16:45:28,440 : INFO : worker thread finished; awaiting finish of 4 more threads\n",
      "2017-08-19 16:45:28,440 : INFO : worker thread finished; awaiting finish of 3 more threads\n",
      "2017-08-19 16:45:28,441 : INFO : worker thread finished; awaiting finish of 2 more threads\n",
      "2017-08-19 16:45:28,441 : INFO : worker thread finished; awaiting finish of 1 more threads\n",
      "2017-08-19 16:45:28,442 : INFO : worker thread finished; awaiting finish of 0 more threads\n",
      "2017-08-19 16:45:28,442 : INFO : training on 802 raw words (93 effective words) took 0.0s, 15752 effective words/s\n",
      "2017-08-19 16:45:28,443 : WARNING : under 10 jobs per worker: consider setting a smaller `batch_words' for smoother alpha decay\n"
     ]
    },
    {
     "data": {
      "text/plain": [
       "93"
      ]
     },
     "execution_count": 50,
     "metadata": {},
     "output_type": "execute_result"
    }
   ],
   "source": [
    "thrones2vec.train(sentences,total_words=total_token,epochs=1)"
   ]
  },
  {
   "cell_type": "code",
   "execution_count": 60,
   "metadata": {
    "collapsed": true
   },
   "outputs": [],
   "source": [
    "if not os.path.exists(\"trained\"):\n",
    "    os.makedirs(\"trained\")"
   ]
  },
  {
   "cell_type": "code",
   "execution_count": 61,
   "metadata": {
    "collapsed": false
   },
   "outputs": [
    {
     "name": "stderr",
     "output_type": "stream",
     "text": [
      "2017-08-19 16:47:58,938 : INFO : saving Word2Vec object under trained/thrones2vec.w2v, separately None\n",
      "2017-08-19 16:47:58,939 : INFO : not storing attribute syn0norm\n",
      "2017-08-19 16:47:58,940 : INFO : not storing attribute cum_table\n",
      "2017-08-19 16:47:58,942 : INFO : saved trained/thrones2vec.w2v\n"
     ]
    }
   ],
   "source": [
    "thrones2vec.save(os.path.join(\"trained\", \"thrones2vec.w2v\"))"
   ]
  },
  {
   "cell_type": "code",
   "execution_count": 65,
   "metadata": {
    "collapsed": false
   },
   "outputs": [
    {
     "data": {
      "text/plain": [
       "[('Apple', 0.587634265422821),\n",
       " ('of', 0.5178271532058716),\n",
       " ('and', 0.5080441832542419),\n",
       " ('development', 0.4029581844806671),\n",
       " ('develop', 0.33027467131614685),\n",
       " ('him', 0.32553452253341675),\n",
       " ('market', 0.3158106803894043),\n",
       " ('in', 0.2835238575935364),\n",
       " ('power', 0.2821364998817444),\n",
       " ('Wozniak', 0.27782559394836426)]"
      ]
     },
     "execution_count": 65,
     "metadata": {},
     "output_type": "execute_result"
    }
   ],
   "source": [
    "thrones2vec.most_similar('Jobs')"
   ]
  },
  {
   "cell_type": "code",
   "execution_count": 66,
   "metadata": {
    "collapsed": true
   },
   "outputs": [],
   "source": [
    "def nearest_similarity_cosmul(start1, end1, end2):\n",
    "    similarities = thrones2vec.most_similar_cosmul(\n",
    "        positive=[end2, start1],\n",
    "        negative=[end1]\n",
    "    )\n",
    "    start2 = similarities[0][0]\n",
    "    print(\"{start1} is related to {end1}, as {start2} is related to {end2}\".format(**locals()))\n",
    "    return start2"
   ]
  },
  {
   "cell_type": "code",
   "execution_count": 69,
   "metadata": {
    "collapsed": false
   },
   "outputs": [
    {
     "name": "stdout",
     "output_type": "stream",
     "text": [
      "Jobs is related to power, as on is related to Tesla\n"
     ]
    },
    {
     "data": {
      "text/plain": [
       "'on'"
      ]
     },
     "execution_count": 69,
     "metadata": {},
     "output_type": "execute_result"
    }
   ],
   "source": [
    "nearest_similarity_cosmul(\"Jobs\", \"power\", \"Tesla\")"
   ]
  },
  {
   "cell_type": "code",
   "execution_count": 72,
   "metadata": {
    "collapsed": false
   },
   "outputs": [
    {
     "data": {
      "text/plain": [
       "array([[  1.73982012e-03,   2.32515298e-03,  -3.83493910e-03,\n",
       "         -5.37546445e-03,  -1.10983115e-03,   2.55719828e-03,\n",
       "          5.53185120e-03,  -2.78962567e-03,  -3.10619408e-03,\n",
       "          6.68094261e-04,  -1.53715524e-03,  -6.00405084e-03,\n",
       "         -3.18486104e-03,  -1.65418978e-03,  -5.09773009e-03,\n",
       "          2.36104475e-03,  -1.98247051e-03,   3.41779762e-03,\n",
       "          3.48823494e-03,  -4.23704181e-03],\n",
       "       [ -3.77409137e-03,   1.21668912e-03,  -2.90166540e-03,\n",
       "         -7.36073265e-03,   3.48343514e-03,   1.95635529e-03,\n",
       "          1.09643454e-03,  -8.18816130e-04,  -3.46780661e-03,\n",
       "         -7.18098599e-04,  -6.61899336e-04,  -1.01176575e-02,\n",
       "         -4.17533843e-03,  -2.20490177e-03,  -9.81093943e-03,\n",
       "          4.31618933e-03,  -2.62846309e-03,   2.30419310e-03,\n",
       "          1.49738300e-03,  -8.10461026e-03],\n",
       "       [ -1.22028391e-03,  -6.16457313e-04,   2.45784642e-04,\n",
       "         -4.15531360e-03,   7.61785413e-05,   8.02046619e-03,\n",
       "          2.28878041e-03,   3.22275423e-03,  -1.96906459e-03,\n",
       "         -2.46804021e-03,  -4.14641993e-03,  -7.71529879e-03,\n",
       "         -1.15389039e-03,  -1.26949744e-03,  -1.86238799e-03,\n",
       "          1.82241539e-03,  -1.37602142e-03,   6.09235256e-04,\n",
       "          1.69752911e-03,  -3.30422120e-03],\n",
       "       [ -4.22280515e-03,   4.60915314e-03,   1.96692208e-03,\n",
       "         -7.13359518e-03,   1.19181140e-03,   1.01727108e-03,\n",
       "          3.68305854e-03,   9.73519636e-05,  -6.82744710e-03,\n",
       "         -4.56684222e-03,  -3.55218141e-03,  -6.37942599e-03,\n",
       "         -4.13683848e-03,  -3.30757443e-03,  -5.48108621e-03,\n",
       "          5.74144628e-03,  -5.80283673e-03,   3.25674517e-03,\n",
       "          4.74975817e-03,  -6.82138791e-03],\n",
       "       [ -1.30125566e-03,   2.25067744e-03,  -2.48212164e-04,\n",
       "         -2.78639793e-03,  -8.96157988e-04,   1.07890682e-03,\n",
       "          1.06080959e-03,  -2.08451785e-03,  -2.65933573e-03,\n",
       "          1.65424659e-03,  -1.23489706e-03,  -1.40477868e-03,\n",
       "          4.69277620e-05,  -1.13774127e-04,  -8.33341561e-04,\n",
       "         -3.64295520e-05,  -1.72456261e-03,   1.88874954e-03,\n",
       "          1.33484928e-03,   5.20430331e-04],\n",
       "       [ -2.18691537e-03,   8.40623979e-04,   1.48961053e-03,\n",
       "         -3.54994903e-03,  -1.24153076e-03,   3.15805292e-03,\n",
       "          2.06902903e-03,   2.02078302e-03,  -2.70296074e-03,\n",
       "         -1.44927099e-03,  -3.73956980e-03,  -3.48580233e-03,\n",
       "         -1.67784732e-04,  -1.36112201e-03,  -9.39711696e-04,\n",
       "         -2.20811213e-04,  -6.85486069e-04,  -4.59566480e-04,\n",
       "          1.78702956e-03,  -2.06292816e-03],\n",
       "       [ -1.26456807e-03,  -3.47216235e-04,  -2.17611669e-03,\n",
       "         -3.35031818e-03,  -3.99565906e-04,  -3.76160024e-05,\n",
       "          1.55525981e-03,  -1.67010888e-03,  -1.62455963e-03,\n",
       "         -4.53435554e-04,  -1.23058690e-03,  -2.00446742e-03,\n",
       "         -1.56083249e-03,   1.41188165e-03,  -2.35707685e-03,\n",
       "          1.41908322e-03,  -1.61702163e-03,   1.19954196e-03,\n",
       "          1.02440151e-03,  -4.19265730e-03],\n",
       "       [  6.61632628e-04,   1.05349894e-03,  -1.84606004e-03,\n",
       "         -1.54253130e-03,   1.12267816e-03,   1.74301385e-04,\n",
       "          1.33796211e-03,  -5.52101876e-04,  -1.28247053e-03,\n",
       "          2.15076987e-04,  -1.47538213e-03,  -3.66307469e-03,\n",
       "         -2.08569900e-03,  -6.38179597e-04,  -3.95237934e-03,\n",
       "          2.00882065e-03,  -1.50468119e-03,   2.54636887e-03,\n",
       "          2.79609259e-04,  -3.84613522e-03],\n",
       "       [  2.19216061e-04,  -3.37607256e-04,   1.23899907e-03,\n",
       "          2.24782634e-04,   2.66302195e-05,   2.35031731e-03,\n",
       "          1.62806036e-03,   1.09210738e-03,   1.99800052e-04,\n",
       "         -7.03988248e-04,  -1.26410089e-03,  -3.02832597e-03,\n",
       "         -2.43351539e-03,   4.74027009e-04,   1.26844668e-03,\n",
       "          1.74393214e-03,  -2.97002727e-03,   2.03253934e-03,\n",
       "         -2.06988561e-03,  -2.77759740e-03],\n",
       "       [  1.77214824e-04,   9.77993128e-04,  -1.66458543e-03,\n",
       "         -3.34303011e-03,   5.36632724e-05,   2.79685156e-03,\n",
       "          1.82870124e-03,   1.35338667e-03,  -6.19251514e-04,\n",
       "         -8.21227615e-04,  -4.16394963e-04,  -3.41700274e-03,\n",
       "         -1.59751403e-03,   2.68511940e-04,  -8.66104790e-04,\n",
       "         -2.69434153e-04,  -7.38122384e-04,  -7.76088564e-04,\n",
       "          2.19942187e-03,  -1.28071371e-03],\n",
       "       [  2.81401823e-04,   7.02059187e-04,  -4.45471174e-04,\n",
       "         -2.16943352e-03,  -2.97064194e-04,   2.37508561e-03,\n",
       "          1.50153122e-03,   1.68974255e-03,  -6.55365235e-04,\n",
       "         -1.04450027e-03,  -1.14591850e-03,  -2.68636737e-03,\n",
       "         -2.15290952e-03,  -1.12426595e-03,  -8.05060496e-04,\n",
       "         -1.04505227e-04,  -7.28663945e-05,   7.21045246e-04,\n",
       "          2.31954898e-03,  -1.42287777e-03],\n",
       "       [ -2.51549471e-04,  -1.79044247e-04,  -1.78186805e-03,\n",
       "          1.52223150e-03,   5.28935867e-04,   1.07907865e-04,\n",
       "         -4.49140411e-04,   9.11832263e-04,  -7.09652610e-04,\n",
       "          5.41854708e-04,  -1.85631576e-03,  -9.61829966e-04,\n",
       "         -8.62798945e-04,   1.36033131e-03,   3.68186185e-04,\n",
       "          9.69178451e-04,  -2.94034107e-04,   9.27193556e-04,\n",
       "         -1.87838252e-03,   2.10224607e-04],\n",
       "       [ -2.23341002e-03,   7.98972440e-04,  -2.85256479e-04,\n",
       "         -2.40930170e-03,   1.11600268e-03,   1.58526096e-03,\n",
       "         -1.10692985e-04,   5.30743389e-04,  -1.42084295e-03,\n",
       "         -1.03312347e-03,  -8.55743943e-04,  -3.40877729e-03,\n",
       "         -3.80703423e-04,   6.09487121e-04,  -1.75390777e-03,\n",
       "          1.79890578e-03,  -2.18377030e-03,   9.48048197e-04,\n",
       "         -5.26089047e-04,  -2.92422390e-03],\n",
       "       [ -6.18007689e-05,   7.81709969e-04,   7.20870376e-05,\n",
       "         -1.17332442e-03,   1.28812960e-03,   1.66430871e-03,\n",
       "          3.54895921e-04,   6.15346187e-04,  -7.77255569e-04,\n",
       "         -1.41228526e-03,   5.47013304e-04,  -1.24450657e-03,\n",
       "          3.87879874e-04,  -1.00182183e-03,  -1.80382782e-03,\n",
       "          1.04640482e-03,  -1.83624303e-04,  -2.08388738e-04,\n",
       "          1.79271935e-03,  -5.14993852e-04],\n",
       "       [ -9.12968768e-04,   1.60603004e-03,   3.82262166e-04,\n",
       "         -2.05248967e-03,   2.70614080e-04,   8.01159986e-05,\n",
       "          1.85659749e-03,  -4.23952966e-04,   3.01901000e-05,\n",
       "         -6.83247577e-04,  -1.49116293e-03,  -1.12198514e-03,\n",
       "         -8.78219493e-04,  -2.25555530e-04,  -2.33971025e-03,\n",
       "          1.68530713e-03,  -1.21636700e-03,  -4.53708271e-05,\n",
       "          5.40579669e-04,  -3.17695318e-03],\n",
       "       [ -5.64674410e-05,  -1.81923795e-04,  -1.52542023e-04,\n",
       "         -1.42872171e-03,   7.31769775e-04,   1.41737022e-04,\n",
       "          1.93251553e-03,  -7.07820116e-04,   6.39529899e-05,\n",
       "         -3.37309553e-04,  -4.41184267e-04,  -1.27325440e-03,\n",
       "         -2.11326231e-04,  -7.41779862e-04,  -1.34827103e-03,\n",
       "          3.72612383e-04,   9.46507353e-05,  -8.00274196e-04,\n",
       "          8.90693103e-04,  -5.45887917e-04],\n",
       "       [ -1.58795505e-03,   4.06705309e-04,  -1.24459900e-03,\n",
       "         -6.92103000e-04,   3.88320768e-04,   9.84028098e-04,\n",
       "         -9.18538659e-04,   6.59308338e-04,  -8.22720351e-04,\n",
       "         -3.93713330e-04,   2.60798202e-04,  -3.58795623e-05,\n",
       "          8.48911077e-05,  -1.65059580e-04,  -1.16789981e-03,\n",
       "          2.52390455e-04,  -1.44190299e-05,   3.65851127e-04,\n",
       "         -4.79308546e-05,   5.57666819e-04],\n",
       "       [  1.28648966e-03,  -3.79877049e-04,  -7.15028436e-04,\n",
       "         -2.20369943e-03,   2.69630371e-04,   1.91317312e-03,\n",
       "          7.86346733e-04,  -8.93387944e-04,   5.19008026e-04,\n",
       "         -7.93376355e-04,  -5.91983902e-04,  -3.05408449e-03,\n",
       "         -1.18636736e-03,  -6.21268700e-04,  -1.74573099e-03,\n",
       "         -3.03378565e-05,   9.64093895e-04,  -3.54806136e-04,\n",
       "          2.00908701e-03,  -8.26782663e-04],\n",
       "       [  2.63731607e-04,  -1.88406688e-04,   3.57457611e-06,\n",
       "         -5.65499184e-04,   5.56750922e-04,   7.92996841e-04,\n",
       "          7.47578219e-04,  -1.55143510e-03,  -3.75405682e-04,\n",
       "          4.93134779e-04,  -7.13793997e-05,  -8.82144959e-05,\n",
       "          3.62435443e-04,  -3.14234116e-04,  -9.76716517e-04,\n",
       "         -2.82036654e-05,  -2.43800969e-04,   2.03985008e-04,\n",
       "         -1.20007680e-04,   4.13282803e-04],\n",
       "       [ -1.02497370e-03,  -1.42293808e-04,   9.90928267e-04,\n",
       "         -8.89808871e-04,  -5.31704814e-07,   9.55124502e-04,\n",
       "         -4.11093264e-04,  -2.64526927e-03,  -1.27100514e-03,\n",
       "         -2.74209131e-04,  -3.38696060e-04,  -1.01837411e-03,\n",
       "          4.48635197e-04,   6.30738155e-04,  -7.47961749e-04,\n",
       "         -2.52716563e-04,  -6.90715155e-04,  -1.26287356e-04,\n",
       "         -1.42626759e-05,   5.25418327e-05],\n",
       "       [ -7.74887740e-04,   5.05970151e-04,   7.02534860e-04,\n",
       "         -2.34130071e-03,  -1.60651840e-03,   2.21731211e-03,\n",
       "          1.38466724e-03,  -2.40108158e-04,  -2.75041588e-04,\n",
       "         -1.48703856e-03,   9.87806474e-04,  -9.26499371e-04,\n",
       "         -1.97173236e-03,  -4.45845682e-04,  -5.45638730e-04,\n",
       "         -1.97557638e-05,   6.71755581e-04,  -1.15977798e-03,\n",
       "          2.22604163e-03,  -1.50031061e-03],\n",
       "       [ -2.33037892e-04,  -4.03890808e-05,  -6.23862725e-04,\n",
       "          3.79724370e-04,   1.10606104e-03,  -2.19365629e-05,\n",
       "          2.53894570e-04,   7.77497713e-04,  -1.89316816e-05,\n",
       "         -2.11088307e-04,   5.70394855e-04,  -5.95251855e-04,\n",
       "          4.28720727e-04,  -3.83142724e-05,  -8.03785981e-04,\n",
       "          1.73026533e-03,  -1.18656969e-03,   8.38721811e-04,\n",
       "         -1.30559155e-03,  -5.61566674e-04],\n",
       "       [  8.43091257e-05,   3.59694823e-04,  -7.92285078e-04,\n",
       "         -1.81927322e-03,   4.68982704e-04,   1.03115162e-03,\n",
       "          6.41829974e-04,   1.22597220e-03,   1.60668467e-04,\n",
       "         -3.80845886e-04,  -2.12099640e-05,  -1.37363293e-03,\n",
       "         -2.83301670e-05,   4.88506848e-05,  -5.24451258e-04,\n",
       "          1.76014961e-04,   6.24877284e-05,   2.61117617e-04,\n",
       "          6.22603169e-04,  -6.26172230e-04],\n",
       "       [ -7.51717656e-04,  -3.05826165e-04,  -8.38495733e-04,\n",
       "          3.99395067e-04,   1.12135036e-04,  -5.02307899e-04,\n",
       "          5.04536729e-04,  -5.89858217e-04,  -1.30821741e-03,\n",
       "         -1.27964385e-03,  -1.40124618e-03,   6.76448166e-04,\n",
       "         -8.41310830e-04,   6.49918584e-05,  -8.66937509e-04,\n",
       "          6.26203662e-04,  -6.98131451e-04,  -1.78473769e-04,\n",
       "          8.58089828e-04,  -1.38066034e-03],\n",
       "       [ -7.14798109e-04,   1.58328097e-04,   2.52257421e-04,\n",
       "         -1.63604575e-03,   1.20709417e-03,   2.14519270e-04,\n",
       "          3.42183805e-04,   8.07640841e-04,  -1.25407742e-03,\n",
       "         -1.32838485e-03,  -1.47640088e-03,  -3.75038740e-04,\n",
       "         -1.73469179e-03,   1.34904683e-03,  -1.64672546e-03,\n",
       "          1.00370392e-03,  -1.18784083e-03,  -1.96606270e-03,\n",
       "          8.62717512e-04,  -2.58668768e-03],\n",
       "       [ -1.24965515e-03,   2.88412179e-04,  -6.07699680e-04,\n",
       "         -1.43458857e-03,  -1.00456586e-04,   2.56498082e-04,\n",
       "          1.26411975e-03,  -8.61379958e-05,   4.73171065e-04,\n",
       "         -8.01543181e-04,  -4.29369829e-04,  -1.00614049e-03,\n",
       "         -2.14780006e-03,  -2.09753358e-04,  -1.37611595e-03,\n",
       "          1.74083177e-03,  -2.14692831e-04,  -9.05866982e-05,\n",
       "          9.47034452e-04,  -2.72730784e-03],\n",
       "       [ -2.70193140e-03,   2.04191450e-03,   5.41044283e-04,\n",
       "         -1.81009644e-03,   1.12611078e-05,  -3.11918644e-04,\n",
       "          9.89480526e-04,  -1.39957608e-03,  -1.14858581e-03,\n",
       "          2.68482417e-03,   1.14392152e-03,   2.65567040e-04,\n",
       "         -1.46151782e-04,   3.34567565e-04,  -1.06053206e-03,\n",
       "          1.57560559e-03,  -5.86363021e-04,   2.32634647e-03,\n",
       "         -1.74548547e-03,  -1.51007599e-03],\n",
       "       [ -9.65550367e-04,  -3.36494631e-05,  -1.19014394e-05,\n",
       "          1.18240074e-04,  -5.85091009e-04,   9.07671172e-04,\n",
       "          3.87984037e-04,   7.03143523e-05,  -7.40872463e-04,\n",
       "         -1.65184727e-03,   6.40739963e-05,  -9.00298823e-04,\n",
       "         -1.03738322e-03,  -6.14551478e-04,  -2.43303715e-04,\n",
       "          1.07494555e-03,  -4.82525269e-04,   7.15078902e-04,\n",
       "          3.75543750e-04,  -1.55215769e-03],\n",
       "       [  5.00706781e-04,   1.12902827e-03,  -9.57176264e-04,\n",
       "         -1.25940866e-03,  -8.63388486e-05,   3.08708040e-05,\n",
       "          1.12730893e-03,  -6.34406460e-04,  -5.92071097e-04,\n",
       "          9.98070347e-04,  -3.71016271e-04,   1.81035604e-04,\n",
       "          6.10857620e-04,   4.07642103e-04,  -4.15651652e-04,\n",
       "          7.52126041e-04,  -2.73314399e-05,   3.26281152e-04,\n",
       "          1.00142159e-03,   4.25417180e-04],\n",
       "       [ -1.91177285e-04,   9.89600740e-05,  -1.53377317e-04,\n",
       "         -2.34978041e-03,  -2.89830321e-04,   2.78237020e-03,\n",
       "          1.29192974e-03,  -4.32449015e-04,  -1.48599443e-03,\n",
       "         -1.26504421e-03,  -6.78321056e-04,  -2.54651718e-03,\n",
       "          4.98756999e-04,  -9.58724646e-04,  -1.54306181e-03,\n",
       "          1.42914499e-03,   5.27978118e-04,   3.65625543e-04,\n",
       "          1.90503523e-03,  -1.58522010e-03],\n",
       "       [  1.23506616e-04,   6.98955206e-04,  -8.47884454e-04,\n",
       "          4.91383253e-04,   5.63325120e-05,   4.77658323e-05,\n",
       "          7.68747588e-04,   6.87921594e-04,  -8.88634007e-04,\n",
       "         -6.35701930e-04,  -1.17280870e-03,   5.32685022e-04,\n",
       "         -1.26637926e-03,  -4.87455749e-04,  -1.10688130e-03,\n",
       "          1.20952295e-03,  -7.66537676e-04,   2.63228721e-04,\n",
       "          7.26138009e-04,  -5.86230657e-04],\n",
       "       [  6.18336373e-04,  -9.55799653e-04,  -9.72375215e-04,\n",
       "         -9.96717950e-04,  -1.84038794e-03,  -1.11068226e-03,\n",
       "          1.00986708e-05,  -3.27847287e-04,   8.40277935e-05,\n",
       "          3.38469283e-04,   5.42515249e-04,   6.80466474e-05,\n",
       "          2.04982440e-04,  -1.00532761e-05,   1.63759454e-03,\n",
       "         -1.34350127e-03,   1.92684436e-03,   5.20199712e-04,\n",
       "          7.04345119e-04,  -2.51143763e-04],\n",
       "       [ -7.39799798e-05,   6.79183286e-04,  -4.26770421e-04,\n",
       "         -6.90841640e-04,   7.73333828e-04,   3.95813957e-04,\n",
       "         -1.44164049e-04,   1.02036458e-03,   7.10330380e-04,\n",
       "         -8.26539181e-04,  -5.82257460e-04,  -1.95646402e-03,\n",
       "         -1.13599736e-03,  -1.48108380e-03,  -1.34965510e-03,\n",
       "          1.94825488e-03,  -2.25761184e-03,  -1.12356611e-04,\n",
       "         -7.28830404e-04,  -1.01387268e-03],\n",
       "       [ -7.26176484e-04,  -1.66216734e-04,  -6.94298869e-05,\n",
       "         -9.83073609e-04,  -5.86587703e-04,   7.65972014e-04,\n",
       "          8.74248042e-04,  -2.04372103e-04,  -8.48890457e-04,\n",
       "         -1.38052215e-04,  -1.10834197e-03,  -1.32076768e-03,\n",
       "         -7.62213662e-04,  -1.45773985e-03,   8.76154008e-05,\n",
       "          2.29969824e-04,   2.48044053e-05,   6.02167740e-04,\n",
       "          5.88900119e-04,  -9.87024629e-04],\n",
       "       [ -8.83850094e-04,   5.14406656e-06,   2.44046503e-04,\n",
       "          1.64643134e-04,   3.14218778e-04,   2.00343691e-03,\n",
       "         -1.17534611e-04,   1.13475823e-03,   3.61600367e-04,\n",
       "         -9.40993312e-04,  -1.27144367e-03,  -8.05211195e-04,\n",
       "         -6.83562306e-04,  -5.07144941e-05,  -1.03918195e-03,\n",
       "          6.24167791e-04,  -1.57063268e-03,  -8.00435431e-04,\n",
       "          8.17570108e-05,  -2.00471142e-04],\n",
       "       [ -2.21894617e-04,   4.53152665e-04,  -1.07934664e-03,\n",
       "         -1.40217145e-03,   7.54679379e-04,  -2.96992803e-05,\n",
       "          4.98799083e-04,  -5.12539002e-04,   1.35714072e-04,\n",
       "         -6.97478012e-04,   7.41031894e-04,  -1.86380907e-03,\n",
       "         -1.17800038e-04,   3.63913772e-04,  -1.59834686e-03,\n",
       "          1.03431824e-03,  -7.85543176e-04,  -7.77948444e-05,\n",
       "         -1.97794070e-04,  -1.17329380e-03],\n",
       "       [  1.03813061e-03,  -1.08492211e-03,   1.28561025e-03,\n",
       "         -8.44296534e-04,   1.11282477e-03,   1.43787661e-03,\n",
       "          5.11497899e-04,   7.86640914e-04,   5.15035295e-04,\n",
       "         -2.44677067e-03,  -9.29130299e-04,  -2.34770798e-03,\n",
       "         -8.78406980e-04,   4.96129389e-04,  -9.91967856e-04,\n",
       "          8.69261101e-04,  -1.38801744e-03,  -9.42124607e-05,\n",
       "          2.81770888e-04,  -2.44414457e-03],\n",
       "       [ -2.02477924e-04,   1.11132678e-04,   2.80429755e-04,\n",
       "         -1.42165343e-03,   4.07235610e-04,  -1.22139943e-04,\n",
       "          7.34297282e-05,  -6.69015513e-04,  -9.18053032e-04,\n",
       "          8.20226152e-04,   6.31868606e-04,   1.63563658e-04,\n",
       "          3.54486372e-04,   4.02187055e-04,   2.99089967e-04,\n",
       "         -4.82735457e-04,  -1.16771254e-04,   5.28540812e-04,\n",
       "         -3.20924417e-04,   4.42534336e-04],\n",
       "       [ -9.83135178e-05,   2.56857340e-04,  -8.02538358e-04,\n",
       "         -1.28975417e-03,  -8.60451371e-04,   1.73430319e-03,\n",
       "          2.71054101e-04,   1.51651527e-03,  -5.18001907e-04,\n",
       "         -1.22191466e-03,   2.06039640e-05,   3.17350816e-04,\n",
       "          6.39470702e-04,   7.27771185e-05,   1.79634910e-04,\n",
       "         -7.77887006e-04,   2.76802923e-04,  -6.52656949e-04,\n",
       "          4.18765267e-04,   1.48857740e-04],\n",
       "       [ -1.19309290e-03,   2.14263477e-04,  -1.00747484e-03,\n",
       "         -5.91793738e-04,   5.40979905e-04,   1.39436481e-04,\n",
       "          2.98868137e-04,  -1.49299289e-04,  -1.02063327e-03,\n",
       "         -5.15515800e-04,  -8.39887944e-04,  -7.18153082e-04,\n",
       "         -2.31826387e-04,  -7.17694347e-04,  -1.23466563e-03,\n",
       "          9.30931419e-04,  -1.32854993e-03,  -2.92113487e-04,\n",
       "          1.25570310e-04,  -3.86100786e-04],\n",
       "       [  1.13022630e-03,   8.25795054e-04,   3.73247341e-04,\n",
       "          7.37033668e-04,   7.60788389e-04,  -5.00930008e-04,\n",
       "          4.24440019e-04,  -2.62306392e-04,   5.75966033e-06,\n",
       "          7.47465383e-05,   7.91673781e-04,   2.27628552e-04,\n",
       "         -2.99210922e-04,  -4.35521128e-04,  -8.09563731e-04,\n",
       "          9.07612499e-04,  -1.20109576e-03,   4.14327194e-04,\n",
       "         -1.18507096e-03,  -9.09145310e-05],\n",
       "       [  1.55374059e-04,   4.33146080e-04,   4.32225934e-05,\n",
       "         -7.54834677e-04,  -4.15597955e-04,   8.09067162e-04,\n",
       "          1.01441867e-03,  -8.41048488e-04,  -5.43371367e-04,\n",
       "          4.68129496e-04,  -3.73998628e-05,  -7.60022784e-04,\n",
       "          1.25140868e-04,  -1.74450412e-04,  -3.13629920e-04,\n",
       "         -5.01166622e-04,   4.29770240e-04,   2.49912318e-05,\n",
       "          4.07033745e-04,   1.10301853e-05],\n",
       "       [ -8.86633235e-04,  -1.05061445e-04,  -7.91367202e-04,\n",
       "         -9.63697443e-04,   3.81814432e-04,  -4.04573773e-04,\n",
       "         -3.12593562e-04,   6.63246901e-04,   3.22342210e-04,\n",
       "         -1.84681689e-04,   1.22298091e-03,   1.16942124e-03,\n",
       "          6.75757416e-04,  -7.43467026e-05,  -2.03399730e-04,\n",
       "          2.35575601e-04,  -8.04780866e-04,  -1.27376430e-03,\n",
       "          6.80530444e-04,   1.06379774e-03],\n",
       "       [  6.53823081e-04,   1.18501586e-04,   2.47822638e-04,\n",
       "          1.33294170e-03,   5.19273744e-04,   3.71338938e-05,\n",
       "         -6.68502762e-04,   4.36931150e-04,   2.19423629e-04,\n",
       "          2.85167422e-04,   1.06703758e-03,   6.54852425e-04,\n",
       "          3.35548917e-04,   3.21096263e-06,  -9.71691552e-05,\n",
       "          3.59241152e-04,   1.83501215e-05,  -5.99124323e-05,\n",
       "         -1.47970393e-03,   2.79964210e-04],\n",
       "       [ -1.15066185e-03,  -5.71119192e-04,  -2.25058699e-04,\n",
       "         -5.85243979e-04,   3.57791811e-04,   1.36684498e-03,\n",
       "         -1.74173634e-04,  -1.15751631e-04,   3.33898846e-04,\n",
       "         -6.88108732e-04,  -9.50130998e-05,  -1.29010633e-03,\n",
       "         -1.25406179e-04,   3.94226052e-04,  -6.20387262e-04,\n",
       "          5.69277618e-04,  -1.10949238e-03,  -5.41902031e-04,\n",
       "         -3.95305513e-04,  -5.50222234e-04],\n",
       "       [ -7.43370561e-04,  -5.20882546e-04,  -1.16335740e-03,\n",
       "         -9.14887874e-04,  -1.34133079e-04,   7.70343409e-04,\n",
       "          1.53558364e-03,  -6.56653836e-04,   3.36122350e-04,\n",
       "          2.28834091e-04,  -1.98061680e-04,  -9.63653030e-04,\n",
       "         -7.77481328e-05,   2.60987727e-04,  -5.07476972e-04,\n",
       "          3.93905357e-04,  -2.09683538e-04,   3.70024907e-04,\n",
       "         -6.13091979e-04,  -6.52877265e-04],\n",
       "       [ -6.70003865e-05,  -5.10131475e-04,  -9.32669733e-04,\n",
       "         -1.37059717e-04,   1.12364862e-04,   1.39228522e-03,\n",
       "          4.37057461e-04,   1.42949237e-03,   7.75094813e-05,\n",
       "         -1.01372041e-03,  -1.09409413e-03,  -1.21671043e-03,\n",
       "         -2.73915968e-04,  -8.90797219e-06,  -1.59493578e-03,\n",
       "          3.71854054e-04,  -2.36329215e-04,  -5.95544523e-04,\n",
       "          6.76607655e-04,  -7.53884728e-04]], dtype=float32)"
      ]
     },
     "execution_count": 72,
     "metadata": {},
     "output_type": "execute_result"
    }
   ],
   "source": [
    "thrones2vec.syn1neg"
   ]
  },
  {
   "cell_type": "code",
   "execution_count": 73,
   "metadata": {
    "collapsed": true
   },
   "outputs": [],
   "source": [
    "tsne = sklearn.manifold.TSNE(n_components=2, random_state=0)"
   ]
  },
  {
   "cell_type": "code",
   "execution_count": 75,
   "metadata": {
    "collapsed": false
   },
   "outputs": [],
   "source": [
    "all_word_vectors_matrix_2d = tsne.fit_transform(thrones2vec.syn1neg)"
   ]
  },
  {
   "cell_type": "code",
   "execution_count": 79,
   "metadata": {
    "collapsed": false
   },
   "outputs": [],
   "source": [
    "points = pd.DataFrame(\n",
    "    [\n",
    "        (word, coords[0], coords[1])\n",
    "        for word, coords in [\n",
    "            (word, all_word_vectors_matrix_2d[thrones2vec.wv.vocab[word].index])\n",
    "            for word in thrones2vec.wv.vocab\n",
    "        ]\n",
    "    ],\n",
    "    columns=[\"word\", \"x\", \"y\"]\n",
    ")"
   ]
  },
  {
   "cell_type": "code",
   "execution_count": 81,
   "metadata": {
    "collapsed": false
   },
   "outputs": [
    {
     "data": {
      "text/html": [
       "<div>\n",
       "<style>\n",
       "    .dataframe thead tr:only-child th {\n",
       "        text-align: right;\n",
       "    }\n",
       "\n",
       "    .dataframe thead th {\n",
       "        text-align: left;\n",
       "    }\n",
       "\n",
       "    .dataframe tbody tr th {\n",
       "        vertical-align: top;\n",
       "    }\n",
       "</style>\n",
       "<table border=\"1\" class=\"dataframe\">\n",
       "  <thead>\n",
       "    <tr style=\"text-align: right;\">\n",
       "      <th></th>\n",
       "      <th>word</th>\n",
       "      <th>x</th>\n",
       "      <th>y</th>\n",
       "    </tr>\n",
       "  </thead>\n",
       "  <tbody>\n",
       "    <tr>\n",
       "      <th>0</th>\n",
       "      <td>and</td>\n",
       "      <td>-46.660053</td>\n",
       "      <td>8.984913</td>\n",
       "    </tr>\n",
       "    <tr>\n",
       "      <th>1</th>\n",
       "      <td>in</td>\n",
       "      <td>-48.960934</td>\n",
       "      <td>1.284148</td>\n",
       "    </tr>\n",
       "    <tr>\n",
       "      <th>2</th>\n",
       "      <td>the</td>\n",
       "      <td>-43.284119</td>\n",
       "      <td>-7.181541</td>\n",
       "    </tr>\n",
       "    <tr>\n",
       "      <th>3</th>\n",
       "      <td>Tesla</td>\n",
       "      <td>-24.036070</td>\n",
       "      <td>-2.085422</td>\n",
       "    </tr>\n",
       "    <tr>\n",
       "      <th>4</th>\n",
       "      <td>an</td>\n",
       "      <td>-8.661366</td>\n",
       "      <td>0.115956</td>\n",
       "    </tr>\n",
       "    <tr>\n",
       "      <th>5</th>\n",
       "      <td>s</td>\n",
       "      <td>-34.630875</td>\n",
       "      <td>0.144557</td>\n",
       "    </tr>\n",
       "    <tr>\n",
       "      <th>6</th>\n",
       "      <td>at</td>\n",
       "      <td>10.023919</td>\n",
       "      <td>-9.675728</td>\n",
       "    </tr>\n",
       "    <tr>\n",
       "      <th>7</th>\n",
       "      <td>power</td>\n",
       "      <td>-15.976613</td>\n",
       "      <td>16.407305</td>\n",
       "    </tr>\n",
       "    <tr>\n",
       "      <th>8</th>\n",
       "      <td>industry</td>\n",
       "      <td>22.593653</td>\n",
       "      <td>-24.862274</td>\n",
       "    </tr>\n",
       "    <tr>\n",
       "      <th>9</th>\n",
       "      <td>He</td>\n",
       "      <td>-12.516855</td>\n",
       "      <td>7.988799</td>\n",
       "    </tr>\n",
       "    <tr>\n",
       "      <th>10</th>\n",
       "      <td>to</td>\n",
       "      <td>35.283470</td>\n",
       "      <td>-14.446146</td>\n",
       "    </tr>\n",
       "    <tr>\n",
       "      <th>11</th>\n",
       "      <td>he</td>\n",
       "      <td>-24.894623</td>\n",
       "      <td>17.483931</td>\n",
       "    </tr>\n",
       "    <tr>\n",
       "      <th>12</th>\n",
       "      <td>would</td>\n",
       "      <td>21.264944</td>\n",
       "      <td>-0.588682</td>\n",
       "    </tr>\n",
       "    <tr>\n",
       "      <th>13</th>\n",
       "      <td>a</td>\n",
       "      <td>-35.724380</td>\n",
       "      <td>16.911694</td>\n",
       "    </tr>\n",
       "    <tr>\n",
       "      <th>14</th>\n",
       "      <td>for</td>\n",
       "      <td>-20.218798</td>\n",
       "      <td>7.366601</td>\n",
       "    </tr>\n",
       "    <tr>\n",
       "      <th>15</th>\n",
       "      <td>New</td>\n",
       "      <td>28.451307</td>\n",
       "      <td>-5.930330</td>\n",
       "    </tr>\n",
       "    <tr>\n",
       "      <th>16</th>\n",
       "      <td>York</td>\n",
       "      <td>-17.053194</td>\n",
       "      <td>-11.103031</td>\n",
       "    </tr>\n",
       "    <tr>\n",
       "      <th>17</th>\n",
       "      <td>before</td>\n",
       "      <td>-5.817419</td>\n",
       "      <td>15.864637</td>\n",
       "    </tr>\n",
       "    <tr>\n",
       "      <th>18</th>\n",
       "      <td>out</td>\n",
       "      <td>40.221855</td>\n",
       "      <td>-2.352545</td>\n",
       "    </tr>\n",
       "    <tr>\n",
       "      <th>19</th>\n",
       "      <td>on</td>\n",
       "      <td>-6.378811</td>\n",
       "      <td>-8.023662</td>\n",
       "    </tr>\n",
       "  </tbody>\n",
       "</table>\n",
       "</div>"
      ],
      "text/plain": [
       "        word          x          y\n",
       "0        and -46.660053   8.984913\n",
       "1         in -48.960934   1.284148\n",
       "2        the -43.284119  -7.181541\n",
       "3      Tesla -24.036070  -2.085422\n",
       "4         an  -8.661366   0.115956\n",
       "5          s -34.630875   0.144557\n",
       "6         at  10.023919  -9.675728\n",
       "7      power -15.976613  16.407305\n",
       "8   industry  22.593653 -24.862274\n",
       "9         He -12.516855   7.988799\n",
       "10        to  35.283470 -14.446146\n",
       "11        he -24.894623  17.483931\n",
       "12     would  21.264944  -0.588682\n",
       "13         a -35.724380  16.911694\n",
       "14       for -20.218798   7.366601\n",
       "15       New  28.451307  -5.930330\n",
       "16      York -17.053194 -11.103031\n",
       "17    before  -5.817419  15.864637\n",
       "18       out  40.221855  -2.352545\n",
       "19        on  -6.378811  -8.023662"
      ]
     },
     "execution_count": 81,
     "metadata": {},
     "output_type": "execute_result"
    }
   ],
   "source": [
    "points.head(20)"
   ]
  },
  {
   "cell_type": "code",
   "execution_count": 94,
   "metadata": {
    "collapsed": true
   },
   "outputs": [],
   "source": [
    "sns.set_context(\"poster\")"
   ]
  },
  {
   "cell_type": "code",
   "execution_count": 95,
   "metadata": {
    "collapsed": false
   },
   "outputs": [
    {
     "data": {
      "text/plain": [
       "<matplotlib.axes._subplots.AxesSubplot at 0x111feb198>"
      ]
     },
     "execution_count": 95,
     "metadata": {},
     "output_type": "execute_result"
    },
    {
     "data": {
      "image/png": "[encoded data removed]",
      "text/plain": [
       "<matplotlib.figure.Figure at 0x111fdb748>"
      ]
     },
     "metadata": {},
     "output_type": "display_data"
    }
   ],
   "source": [
    "points.plot.scatter(\"x\", \"y\")"
   ]
  },
  {
   "cell_type": "code",
   "execution_count": 96,
   "metadata": {
    "collapsed": true
   },
   "outputs": [],
   "source": [
    "def plot_region(x_bounds, y_bounds):\n",
    "    slice = points[\n",
    "        (x_bounds[0] <= points.x) &\n",
    "        (points.x <= x_bounds[1]) & \n",
    "        (y_bounds[0] <= points.y) &\n",
    "        (points.y <= y_bounds[1])\n",
    "    ]\n",
    "    \n",
    "    ax = slice.plot.scatter(\"x\", \"y\", s=35, figsize=(10, 8))\n",
    "    for i, point in slice.iterrows():\n",
    "        ax.text(point.x + 0.005, point.y + 0.005, point.word, fontsize=11)"
   ]
  },
  {
   "cell_type": "code",
   "execution_count": 97,
   "metadata": {
    "collapsed": false
   },
   "outputs": [
    {
     "ename": "ValueError",
     "evalue": "scatter requires x column to be numeric",
     "output_type": "error",
     "traceback": [
      "\u001b[0;31m---------------------------------------------------------------------------\u001b[0m",
      "\u001b[0;31mValueError\u001b[0m                                Traceback (most recent call last)",
      "\u001b[0;32m<ipython-input-97-784443c41ea3>\u001b[0m in \u001b[0;36m<module>\u001b[0;34m()\u001b[0m\n\u001b[0;32m----> 1\u001b[0;31m \u001b[0mplot_region\u001b[0m\u001b[0;34m(\u001b[0m\u001b[0mx_bounds\u001b[0m\u001b[0;34m=\u001b[0m\u001b[0;34m(\u001b[0m\u001b[0;36m4.0\u001b[0m\u001b[0;34m,\u001b[0m \u001b[0;36m4.2\u001b[0m\u001b[0;34m)\u001b[0m\u001b[0;34m,\u001b[0m \u001b[0my_bounds\u001b[0m\u001b[0;34m=\u001b[0m\u001b[0;34m(\u001b[0m\u001b[0;34m-\u001b[0m\u001b[0;36m0.5\u001b[0m\u001b[0;34m,\u001b[0m \u001b[0;34m-\u001b[0m\u001b[0;36m0.1\u001b[0m\u001b[0;34m)\u001b[0m\u001b[0;34m)\u001b[0m\u001b[0;34m\u001b[0m\u001b[0m\n\u001b[0m",
      "\u001b[0;32m<ipython-input-96-364f3a90a271>\u001b[0m in \u001b[0;36mplot_region\u001b[0;34m(x_bounds, y_bounds)\u001b[0m\n\u001b[1;32m      7\u001b[0m     ]\n\u001b[1;32m      8\u001b[0m \u001b[0;34m\u001b[0m\u001b[0m\n\u001b[0;32m----> 9\u001b[0;31m     \u001b[0max\u001b[0m \u001b[0;34m=\u001b[0m \u001b[0mslice\u001b[0m\u001b[0;34m.\u001b[0m\u001b[0mplot\u001b[0m\u001b[0;34m.\u001b[0m\u001b[0mscatter\u001b[0m\u001b[0;34m(\u001b[0m\u001b[0;34m\"x\"\u001b[0m\u001b[0;34m,\u001b[0m \u001b[0;34m\"y\"\u001b[0m\u001b[0;34m,\u001b[0m \u001b[0ms\u001b[0m\u001b[0;34m=\u001b[0m\u001b[0;36m35\u001b[0m\u001b[0;34m,\u001b[0m \u001b[0mfigsize\u001b[0m\u001b[0;34m=\u001b[0m\u001b[0;34m(\u001b[0m\u001b[0;36m10\u001b[0m\u001b[0;34m,\u001b[0m \u001b[0;36m8\u001b[0m\u001b[0;34m)\u001b[0m\u001b[0;34m)\u001b[0m\u001b[0;34m\u001b[0m\u001b[0m\n\u001b[0m\u001b[1;32m     10\u001b[0m     \u001b[0;32mfor\u001b[0m \u001b[0mi\u001b[0m\u001b[0;34m,\u001b[0m \u001b[0mpoint\u001b[0m \u001b[0;32min\u001b[0m \u001b[0mslice\u001b[0m\u001b[0;34m.\u001b[0m\u001b[0miterrows\u001b[0m\u001b[0;34m(\u001b[0m\u001b[0;34m)\u001b[0m\u001b[0;34m:\u001b[0m\u001b[0;34m\u001b[0m\u001b[0m\n\u001b[1;32m     11\u001b[0m         \u001b[0max\u001b[0m\u001b[0;34m.\u001b[0m\u001b[0mtext\u001b[0m\u001b[0;34m(\u001b[0m\u001b[0mpoint\u001b[0m\u001b[0;34m.\u001b[0m\u001b[0mx\u001b[0m \u001b[0;34m+\u001b[0m \u001b[0;36m0.005\u001b[0m\u001b[0;34m,\u001b[0m \u001b[0mpoint\u001b[0m\u001b[0;34m.\u001b[0m\u001b[0my\u001b[0m \u001b[0;34m+\u001b[0m \u001b[0;36m0.005\u001b[0m\u001b[0;34m,\u001b[0m \u001b[0mpoint\u001b[0m\u001b[0;34m.\u001b[0m\u001b[0mword\u001b[0m\u001b[0;34m,\u001b[0m \u001b[0mfontsize\u001b[0m\u001b[0;34m=\u001b[0m\u001b[0;36m11\u001b[0m\u001b[0;34m)\u001b[0m\u001b[0;34m\u001b[0m\u001b[0m\n",
      "\u001b[0;32m/Users/amitjain/anaconda/envs/py3/lib/python3.6/site-packages/pandas/plotting/_core.py\u001b[0m in \u001b[0;36mscatter\u001b[0;34m(self, x, y, s, c, **kwds)\u001b[0m\n\u001b[1;32m   2803\u001b[0m         \u001b[0maxes\u001b[0m \u001b[0;34m:\u001b[0m \u001b[0mmatplotlib\u001b[0m\u001b[0;34m.\u001b[0m\u001b[0mAxesSubplot\u001b[0m \u001b[0;32mor\u001b[0m \u001b[0mnp\u001b[0m\u001b[0;34m.\u001b[0m\u001b[0marray\u001b[0m \u001b[0mof\u001b[0m \u001b[0mthem\u001b[0m\u001b[0;34m\u001b[0m\u001b[0m\n\u001b[1;32m   2804\u001b[0m         \"\"\"\n\u001b[0;32m-> 2805\u001b[0;31m         \u001b[0;32mreturn\u001b[0m \u001b[0mself\u001b[0m\u001b[0;34m(\u001b[0m\u001b[0mkind\u001b[0m\u001b[0;34m=\u001b[0m\u001b[0;34m'scatter'\u001b[0m\u001b[0;34m,\u001b[0m \u001b[0mx\u001b[0m\u001b[0;34m=\u001b[0m\u001b[0mx\u001b[0m\u001b[0;34m,\u001b[0m \u001b[0my\u001b[0m\u001b[0;34m=\u001b[0m\u001b[0my\u001b[0m\u001b[0;34m,\u001b[0m \u001b[0mc\u001b[0m\u001b[0;34m=\u001b[0m\u001b[0mc\u001b[0m\u001b[0;34m,\u001b[0m \u001b[0ms\u001b[0m\u001b[0;34m=\u001b[0m\u001b[0ms\u001b[0m\u001b[0;34m,\u001b[0m \u001b[0;34m**\u001b[0m\u001b[0mkwds\u001b[0m\u001b[0;34m)\u001b[0m\u001b[0;34m\u001b[0m\u001b[0m\n\u001b[0m\u001b[1;32m   2806\u001b[0m \u001b[0;34m\u001b[0m\u001b[0m\n\u001b[1;32m   2807\u001b[0m     def hexbin(self, x, y, C=None, reduce_C_function=None, gridsize=None,\n",
      "\u001b[0;32m/Users/amitjain/anaconda/envs/py3/lib/python3.6/site-packages/pandas/plotting/_core.py\u001b[0m in \u001b[0;36m__call__\u001b[0;34m(self, x, y, kind, ax, subplots, sharex, sharey, layout, figsize, use_index, title, grid, legend, style, logx, logy, loglog, xticks, yticks, xlim, ylim, rot, fontsize, colormap, table, yerr, xerr, secondary_y, sort_columns, **kwds)\u001b[0m\n\u001b[1;32m   2625\u001b[0m                           \u001b[0mfontsize\u001b[0m\u001b[0;34m=\u001b[0m\u001b[0mfontsize\u001b[0m\u001b[0;34m,\u001b[0m \u001b[0mcolormap\u001b[0m\u001b[0;34m=\u001b[0m\u001b[0mcolormap\u001b[0m\u001b[0;34m,\u001b[0m \u001b[0mtable\u001b[0m\u001b[0;34m=\u001b[0m\u001b[0mtable\u001b[0m\u001b[0;34m,\u001b[0m\u001b[0;34m\u001b[0m\u001b[0m\n\u001b[1;32m   2626\u001b[0m                           \u001b[0myerr\u001b[0m\u001b[0;34m=\u001b[0m\u001b[0myerr\u001b[0m\u001b[0;34m,\u001b[0m \u001b[0mxerr\u001b[0m\u001b[0;34m=\u001b[0m\u001b[0mxerr\u001b[0m\u001b[0;34m,\u001b[0m \u001b[0msecondary_y\u001b[0m\u001b[0;34m=\u001b[0m\u001b[0msecondary_y\u001b[0m\u001b[0;34m,\u001b[0m\u001b[0;34m\u001b[0m\u001b[0m\n\u001b[0;32m-> 2627\u001b[0;31m                           sort_columns=sort_columns, **kwds)\n\u001b[0m\u001b[1;32m   2628\u001b[0m     \u001b[0m__call__\u001b[0m\u001b[0;34m.\u001b[0m\u001b[0m__doc__\u001b[0m \u001b[0;34m=\u001b[0m \u001b[0mplot_frame\u001b[0m\u001b[0;34m.\u001b[0m\u001b[0m__doc__\u001b[0m\u001b[0;34m\u001b[0m\u001b[0m\n\u001b[1;32m   2629\u001b[0m \u001b[0;34m\u001b[0m\u001b[0m\n",
      "\u001b[0;32m/Users/amitjain/anaconda/envs/py3/lib/python3.6/site-packages/pandas/plotting/_core.py\u001b[0m in \u001b[0;36mplot_frame\u001b[0;34m(data, x, y, kind, ax, subplots, sharex, sharey, layout, figsize, use_index, title, grid, legend, style, logx, logy, loglog, xticks, yticks, xlim, ylim, rot, fontsize, colormap, table, yerr, xerr, secondary_y, sort_columns, **kwds)\u001b[0m\n\u001b[1;32m   1867\u001b[0m                  \u001b[0myerr\u001b[0m\u001b[0;34m=\u001b[0m\u001b[0myerr\u001b[0m\u001b[0;34m,\u001b[0m \u001b[0mxerr\u001b[0m\u001b[0;34m=\u001b[0m\u001b[0mxerr\u001b[0m\u001b[0;34m,\u001b[0m\u001b[0;34m\u001b[0m\u001b[0m\n\u001b[1;32m   1868\u001b[0m                  \u001b[0msecondary_y\u001b[0m\u001b[0;34m=\u001b[0m\u001b[0msecondary_y\u001b[0m\u001b[0;34m,\u001b[0m \u001b[0msort_columns\u001b[0m\u001b[0;34m=\u001b[0m\u001b[0msort_columns\u001b[0m\u001b[0;34m,\u001b[0m\u001b[0;34m\u001b[0m\u001b[0m\n\u001b[0;32m-> 1869\u001b[0;31m                  **kwds)\n\u001b[0m\u001b[1;32m   1870\u001b[0m \u001b[0;34m\u001b[0m\u001b[0m\n\u001b[1;32m   1871\u001b[0m \u001b[0;34m\u001b[0m\u001b[0m\n",
      "\u001b[0;32m/Users/amitjain/anaconda/envs/py3/lib/python3.6/site-packages/pandas/plotting/_core.py\u001b[0m in \u001b[0;36m_plot\u001b[0;34m(data, x, y, subplots, ax, kind, **kwds)\u001b[0m\n\u001b[1;32m   1650\u001b[0m         \u001b[0;32mif\u001b[0m \u001b[0misinstance\u001b[0m\u001b[0;34m(\u001b[0m\u001b[0mdata\u001b[0m\u001b[0;34m,\u001b[0m \u001b[0mDataFrame\u001b[0m\u001b[0;34m)\u001b[0m\u001b[0;34m:\u001b[0m\u001b[0;34m\u001b[0m\u001b[0m\n\u001b[1;32m   1651\u001b[0m             plot_obj = klass(data, x=x, y=y, subplots=subplots, ax=ax,\n\u001b[0;32m-> 1652\u001b[0;31m                              kind=kind, **kwds)\n\u001b[0m\u001b[1;32m   1653\u001b[0m         \u001b[0;32melse\u001b[0m\u001b[0;34m:\u001b[0m\u001b[0;34m\u001b[0m\u001b[0m\n\u001b[1;32m   1654\u001b[0m             raise ValueError(\"plot kind %r can only be used for data frames\"\n",
      "\u001b[0;32m/Users/amitjain/anaconda/envs/py3/lib/python3.6/site-packages/pandas/plotting/_core.py\u001b[0m in \u001b[0;36m__init__\u001b[0;34m(self, data, x, y, s, c, **kwargs)\u001b[0m\n\u001b[1;32m    808\u001b[0m             \u001b[0;31m# the handling of this argument later\u001b[0m\u001b[0;34m\u001b[0m\u001b[0;34m\u001b[0m\u001b[0m\n\u001b[1;32m    809\u001b[0m             \u001b[0ms\u001b[0m \u001b[0;34m=\u001b[0m \u001b[0;36m20\u001b[0m\u001b[0;34m\u001b[0m\u001b[0m\n\u001b[0;32m--> 810\u001b[0;31m         \u001b[0msuper\u001b[0m\u001b[0;34m(\u001b[0m\u001b[0mScatterPlot\u001b[0m\u001b[0;34m,\u001b[0m \u001b[0mself\u001b[0m\u001b[0;34m)\u001b[0m\u001b[0;34m.\u001b[0m\u001b[0m__init__\u001b[0m\u001b[0;34m(\u001b[0m\u001b[0mdata\u001b[0m\u001b[0;34m,\u001b[0m \u001b[0mx\u001b[0m\u001b[0;34m,\u001b[0m \u001b[0my\u001b[0m\u001b[0;34m,\u001b[0m \u001b[0ms\u001b[0m\u001b[0;34m=\u001b[0m\u001b[0ms\u001b[0m\u001b[0;34m,\u001b[0m \u001b[0;34m**\u001b[0m\u001b[0mkwargs\u001b[0m\u001b[0;34m)\u001b[0m\u001b[0;34m\u001b[0m\u001b[0m\n\u001b[0m\u001b[1;32m    811\u001b[0m         \u001b[0;32mif\u001b[0m \u001b[0mis_integer\u001b[0m\u001b[0;34m(\u001b[0m\u001b[0mc\u001b[0m\u001b[0;34m)\u001b[0m \u001b[0;32mand\u001b[0m \u001b[0;32mnot\u001b[0m \u001b[0mself\u001b[0m\u001b[0;34m.\u001b[0m\u001b[0mdata\u001b[0m\u001b[0;34m.\u001b[0m\u001b[0mcolumns\u001b[0m\u001b[0;34m.\u001b[0m\u001b[0mholds_integer\u001b[0m\u001b[0;34m(\u001b[0m\u001b[0;34m)\u001b[0m\u001b[0;34m:\u001b[0m\u001b[0;34m\u001b[0m\u001b[0m\n\u001b[1;32m    812\u001b[0m             \u001b[0mc\u001b[0m \u001b[0;34m=\u001b[0m \u001b[0mself\u001b[0m\u001b[0;34m.\u001b[0m\u001b[0mdata\u001b[0m\u001b[0;34m.\u001b[0m\u001b[0mcolumns\u001b[0m\u001b[0;34m[\u001b[0m\u001b[0mc\u001b[0m\u001b[0;34m]\u001b[0m\u001b[0;34m\u001b[0m\u001b[0m\n",
      "\u001b[0;32m/Users/amitjain/anaconda/envs/py3/lib/python3.6/site-packages/pandas/plotting/_core.py\u001b[0m in \u001b[0;36m__init__\u001b[0;34m(self, data, x, y, **kwargs)\u001b[0m\n\u001b[1;32m    783\u001b[0m             \u001b[0my\u001b[0m \u001b[0;34m=\u001b[0m \u001b[0mself\u001b[0m\u001b[0;34m.\u001b[0m\u001b[0mdata\u001b[0m\u001b[0;34m.\u001b[0m\u001b[0mcolumns\u001b[0m\u001b[0;34m[\u001b[0m\u001b[0my\u001b[0m\u001b[0;34m]\u001b[0m\u001b[0;34m\u001b[0m\u001b[0m\n\u001b[1;32m    784\u001b[0m         \u001b[0;32mif\u001b[0m \u001b[0mlen\u001b[0m\u001b[0;34m(\u001b[0m\u001b[0mself\u001b[0m\u001b[0;34m.\u001b[0m\u001b[0mdata\u001b[0m\u001b[0;34m[\u001b[0m\u001b[0mx\u001b[0m\u001b[0;34m]\u001b[0m\u001b[0;34m.\u001b[0m\u001b[0m_get_numeric_data\u001b[0m\u001b[0;34m(\u001b[0m\u001b[0;34m)\u001b[0m\u001b[0;34m)\u001b[0m \u001b[0;34m==\u001b[0m \u001b[0;36m0\u001b[0m\u001b[0;34m:\u001b[0m\u001b[0;34m\u001b[0m\u001b[0m\n\u001b[0;32m--> 785\u001b[0;31m             \u001b[0;32mraise\u001b[0m \u001b[0mValueError\u001b[0m\u001b[0;34m(\u001b[0m\u001b[0mself\u001b[0m\u001b[0;34m.\u001b[0m\u001b[0m_kind\u001b[0m \u001b[0;34m+\u001b[0m \u001b[0;34m' requires x column to be numeric'\u001b[0m\u001b[0;34m)\u001b[0m\u001b[0;34m\u001b[0m\u001b[0m\n\u001b[0m\u001b[1;32m    786\u001b[0m         \u001b[0;32mif\u001b[0m \u001b[0mlen\u001b[0m\u001b[0;34m(\u001b[0m\u001b[0mself\u001b[0m\u001b[0;34m.\u001b[0m\u001b[0mdata\u001b[0m\u001b[0;34m[\u001b[0m\u001b[0my\u001b[0m\u001b[0;34m]\u001b[0m\u001b[0;34m.\u001b[0m\u001b[0m_get_numeric_data\u001b[0m\u001b[0;34m(\u001b[0m\u001b[0;34m)\u001b[0m\u001b[0;34m)\u001b[0m \u001b[0;34m==\u001b[0m \u001b[0;36m0\u001b[0m\u001b[0;34m:\u001b[0m\u001b[0;34m\u001b[0m\u001b[0m\n\u001b[1;32m    787\u001b[0m             \u001b[0;32mraise\u001b[0m \u001b[0mValueError\u001b[0m\u001b[0;34m(\u001b[0m\u001b[0mself\u001b[0m\u001b[0;34m.\u001b[0m\u001b[0m_kind\u001b[0m \u001b[0;34m+\u001b[0m \u001b[0;34m' requires y column to be numeric'\u001b[0m\u001b[0;34m)\u001b[0m\u001b[0;34m\u001b[0m\u001b[0m\n",
      "\u001b[0;31mValueError\u001b[0m: scatter requires x column to be numeric"
     ]
    }
   ],
   "source": [
    "plot_region(x_bounds=(4.0, 4.2), y_bounds=(-0.5, -0.1))"
   ]
  }
 ],
 "metadata": {
  "kernelspec": {
   "display_name": "Python 3",
   "language": "python",
   "name": "python3"
  },
  "language_info": {
   "codemirror_mode": {
    "name": "ipython",
    "version": 3
   },
   "file_extension": ".py",
   "mimetype": "text/x-python",
   "name": "python",
   "nbconvert_exporter": "python",
   "pygments_lexer": "ipython3",
   "version": "3.6.1"
  }
 },
 "nbformat": 4,
 "nbformat_minor": 2
}
