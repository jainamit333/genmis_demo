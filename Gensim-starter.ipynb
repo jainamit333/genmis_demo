{
 "cells": [
  {
   "cell_type": "code",
   "execution_count": 1,
   "metadata": {
    "collapsed": true,
    "deletable": true,
    "editable": true
   },
   "outputs": [],
   "source": [
    "import pandas as pd\n",
    "from gensim import corpora,models\n",
    "import logging\n",
    "import collections\n",
    "from collections import defaultdict\n",
    "from pprint import pprint\n",
    "from six import iteritems"
   ]
  },
  {
   "cell_type": "code",
   "execution_count": 2,
   "metadata": {
    "collapsed": true,
    "deletable": true,
    "editable": true
   },
   "outputs": [],
   "source": [
    "documents = [\"Human machine interface for lab abc computer applications\",\n",
    "              \"A survey of user opinion of computer system response time\",\n",
    "              \"The EPS user interface management system\",\n",
    "              \"System and human system engineering testing of EPS\",\n",
    "              \"Relation of user perceived response time to error measurement\",\n",
    "              \"The generation of random binary unordered trees\",\n",
    "              \"The intersection graph of paths in trees\",\n",
    "              \"Graph minors IV Widths of trees and well quasi ordering\",\n",
    "              \"Graph minors A survey\"]"
   ]
  },
  {
   "cell_type": "code",
   "execution_count": 3,
   "metadata": {
    "collapsed": true,
    "deletable": true,
    "editable": true
   },
   "outputs": [],
   "source": [
    "stoplist = set('for a of the and to in'.split())\n",
    "texts = [[word for word in document.lower().split() if word not in stoplist]\n",
    "          for document in documents]"
   ]
  },
  {
   "cell_type": "code",
   "execution_count": 4,
   "metadata": {
    "collapsed": false,
    "deletable": true,
    "editable": true
   },
   "outputs": [
    {
     "name": "stdout",
     "output_type": "stream",
     "text": [
      "[['human', 'machine', 'interface', 'lab', 'abc', 'computer', 'applications'],\n",
      " ['survey', 'user', 'opinion', 'computer', 'system', 'response', 'time'],\n",
      " ['eps', 'user', 'interface', 'management', 'system'],\n",
      " ['system', 'human', 'system', 'engineering', 'testing', 'eps'],\n",
      " ['relation', 'user', 'perceived', 'response', 'time', 'error', 'measurement'],\n",
      " ['generation', 'random', 'binary', 'unordered', 'trees'],\n",
      " ['intersection', 'graph', 'paths', 'trees'],\n",
      " ['graph', 'minors', 'iv', 'widths', 'trees', 'well', 'quasi', 'ordering'],\n",
      " ['graph', 'minors', 'survey']]\n"
     ]
    }
   ],
   "source": [
    "pprint(texts)"
   ]
  },
  {
   "cell_type": "code",
   "execution_count": 5,
   "metadata": {
    "collapsed": true,
    "deletable": true,
    "editable": true
   },
   "outputs": [],
   "source": [
    "dictionary = corpora.Dictionary(texts)"
   ]
  },
  {
   "cell_type": "code",
   "execution_count": 6,
   "metadata": {
    "collapsed": false,
    "deletable": true,
    "editable": true
   },
   "outputs": [
    {
     "name": "stdout",
     "output_type": "stream",
     "text": [
      "{'abc': 4,\n",
      " 'applications': 6,\n",
      " 'binary': 23,\n",
      " 'computer': 5,\n",
      " 'engineering': 15,\n",
      " 'eps': 13,\n",
      " 'error': 19,\n",
      " 'generation': 21,\n",
      " 'graph': 27,\n",
      " 'human': 0,\n",
      " 'interface': 2,\n",
      " 'intersection': 26,\n",
      " 'iv': 30,\n",
      " 'lab': 3,\n",
      " 'machine': 1,\n",
      " 'management': 14,\n",
      " 'measurement': 20,\n",
      " 'minors': 29,\n",
      " 'opinion': 9,\n",
      " 'ordering': 34,\n",
      " 'paths': 28,\n",
      " 'perceived': 18,\n",
      " 'quasi': 33,\n",
      " 'random': 22,\n",
      " 'relation': 17,\n",
      " 'response': 11,\n",
      " 'survey': 7,\n",
      " 'system': 10,\n",
      " 'testing': 16,\n",
      " 'time': 12,\n",
      " 'trees': 25,\n",
      " 'unordered': 24,\n",
      " 'user': 8,\n",
      " 'well': 32,\n",
      " 'widths': 31}\n"
     ]
    }
   ],
   "source": [
    "pprint(dictionary.token2id)"
   ]
  },
  {
   "cell_type": "code",
   "execution_count": 7,
   "metadata": {
    "collapsed": true,
    "deletable": true,
    "editable": true
   },
   "outputs": [],
   "source": [
    "dictionary_data = 'data/gensim/dictionary.txt'\n",
    "document_path = 'data/gensim/document.txt'\n",
    "stoplist = set('for a of the and to in'.split())"
   ]
  },
  {
   "cell_type": "code",
   "execution_count": 8,
   "metadata": {
    "collapsed": true,
    "deletable": true,
    "editable": true
   },
   "outputs": [],
   "source": [
    "corpus = [dictionary.doc2bow(text) for text in texts]"
   ]
  },
  {
   "cell_type": "code",
   "execution_count": 9,
   "metadata": {
    "collapsed": false,
    "deletable": true,
    "editable": true
   },
   "outputs": [
    {
     "name": "stdout",
     "output_type": "stream",
     "text": [
      "[[(0, 1), (1, 1), (2, 1), (3, 1), (4, 1), (5, 1), (6, 1)],\n",
      " [(5, 1), (7, 1), (8, 1), (9, 1), (10, 1), (11, 1), (12, 1)],\n",
      " [(2, 1), (8, 1), (10, 1), (13, 1), (14, 1)],\n",
      " [(0, 1), (10, 2), (13, 1), (15, 1), (16, 1)],\n",
      " [(8, 1), (11, 1), (12, 1), (17, 1), (18, 1), (19, 1), (20, 1)],\n",
      " [(21, 1), (22, 1), (23, 1), (24, 1), (25, 1)],\n",
      " [(25, 1), (26, 1), (27, 1), (28, 1)],\n",
      " [(25, 1), (27, 1), (29, 1), (30, 1), (31, 1), (32, 1), (33, 1), (34, 1)],\n",
      " [(7, 1), (27, 1), (29, 1)]]\n"
     ]
    }
   ],
   "source": [
    "pprint(corpus)"
   ]
  },
  {
   "cell_type": "code",
   "execution_count": 10,
   "metadata": {
    "collapsed": false,
    "deletable": true,
    "editable": true
   },
   "outputs": [
    {
     "name": "stdout",
     "output_type": "stream",
     "text": [
      "[(22, 1), (29, 2)]\n"
     ]
    }
   ],
   "source": [
    "pprint(dictionary.doc2bow(['minors','random','minors']))"
   ]
  },
  {
   "cell_type": "code",
   "execution_count": 11,
   "metadata": {
    "collapsed": false,
    "deletable": true,
    "editable": true
   },
   "outputs": [
    {
     "name": "stdout",
     "output_type": "stream",
     "text": [
      "<gensim.models.tfidfmodel.TfidfModel object at 0x10d0ef668>\n"
     ]
    }
   ],
   "source": [
    "tfidf = models.TfidfModel(corpus)\n",
    "pprint(tfidf)"
   ]
  },
  {
   "cell_type": "code",
   "execution_count": 12,
   "metadata": {
    "collapsed": false,
    "deletable": true,
    "editable": true
   },
   "outputs": [
    {
     "name": "stdout",
     "output_type": "stream",
     "text": [
      "[(0, 0.5648663441460566), (1, 0.8251824121072071)]\n"
     ]
    }
   ],
   "source": [
    "doc_bow = [(0, 1), (1, 1)]\n",
    "pprint(tfidf[doc_bow])\n"
   ]
  },
  {
   "cell_type": "code",
   "execution_count": 13,
   "metadata": {
    "collapsed": false,
    "deletable": true,
    "editable": true
   },
   "outputs": [
    {
     "name": "stdout",
     "output_type": "stream",
     "text": [
      "[[(0, 1), (1, 1), (2, 1), (3, 1), (4, 1), (5, 1), (6, 1)],\n",
      " [(5, 1), (7, 1), (8, 1), (9, 1), (10, 1), (11, 1), (12, 1)],\n",
      " [(2, 1), (8, 1), (10, 1), (13, 1), (14, 1)],\n",
      " [(0, 1), (10, 2), (13, 1), (15, 1), (16, 1)],\n",
      " [(8, 1), (11, 1), (12, 1), (17, 1), (18, 1), (19, 1), (20, 1)],\n",
      " [(21, 1), (22, 1), (23, 1), (24, 1), (25, 1)],\n",
      " [(25, 1), (26, 1), (27, 1), (28, 1)],\n",
      " [(25, 1), (27, 1), (29, 1), (30, 1), (31, 1), (32, 1), (33, 1), (34, 1)],\n",
      " [(7, 1), (27, 1), (29, 1)]]\n"
     ]
    }
   ],
   "source": [
    "corpus_tfidf = tfidf[corpus]\n",
    "pprint(corpus)"
   ]
  },
  {
   "cell_type": "code",
   "execution_count": 14,
   "metadata": {
    "collapsed": true,
    "deletable": true,
    "editable": true
   },
   "outputs": [],
   "source": [
    "#params ->\n",
    "class MyGensimClass:\n",
    "    \n",
    "    dictionary = None;\n",
    "    \n",
    "    def __init__(self,dictionary_data,stoplist):\n",
    "        self.dictionary = corpora.Dictionary(line.lower().split() for line in open(dictionary_data))\n",
    "        stop_ids = [dictionary.token2id[stopword] for stopword in stoplist\n",
    "                   if stopword in dictionary.token2id]\n",
    "        #once_ids = [tokenid for tokenid, docfreq in iteritems(dictionary.dfs) if docfreq == 1]\n",
    "        self.dictionary.filter_tokens(stop_ids)\n",
    "        self.dictionary.compactify()\n",
    "        \n",
    "    def __iter__(self):\n",
    "        for line in open(document_path):\n",
    "            yield self.dictionary.doc2bow(line.lower().split())\n",
    "            \n",
    "    def print_dictionary(self):\n",
    "        print(self.dictionary)\n",
    "        pprint(self.dictionary.token2id);\n",
    "        \n",
    "        \n",
    "    def print_corpus(self):\n",
    "        for vector in self:\n",
    "            pprint(vector)"
   ]
  },
  {
   "cell_type": "code",
   "execution_count": 15,
   "metadata": {
    "collapsed": true,
    "deletable": true,
    "editable": true
   },
   "outputs": [],
   "source": [
    "myObject = MyGensimClass(dictionary_data=dictionary_data,stoplist=stoplist)"
   ]
  },
  {
   "cell_type": "code",
   "execution_count": 16,
   "metadata": {
    "collapsed": false,
    "deletable": true,
    "editable": true
   },
   "outputs": [
    {
     "name": "stdout",
     "output_type": "stream",
     "text": [
      "Dictionary(59 unique tokens: ['while', 'the', 'nation', 'is', 'commemorating']...)\n",
      "{'\"bjp': 19,\n",
      " '\"democracy,': 27,\n",
      " \"'bjp\": 46,\n",
      " \"2019'\": 48,\n",
      " '75th': 5,\n",
      " 'a': 53,\n",
      " 'all': 43,\n",
      " 'and': 29,\n",
      " 'anniversary': 6,\n",
      " 'are': 32,\n",
      " 'at': 37,\n",
      " 'banerjee': 16,\n",
      " 'be': 49,\n",
      " 'bengal': 12,\n",
      " 'bjp': 35,\n",
      " 'centre.': 38,\n",
      " 'chief': 13,\n",
      " 'commemorating': 4,\n",
      " 'country.': 26,\n",
      " 'from': 25,\n",
      " 'government': 36,\n",
      " 'has': 17,\n",
      " 'in': 47,\n",
      " 'india': 9,\n",
      " 'is': 3,\n",
      " 'launched': 18,\n",
      " 'mamata': 15,\n",
      " 'meeting': 55,\n",
      " 'midnapore': 56,\n",
      " 'minister': 14,\n",
      " 'movement\"': 20,\n",
      " 'movement,': 10,\n",
      " 'nation': 2,\n",
      " 'of': 7,\n",
      " 'on': 57,\n",
      " 'opposition': 44,\n",
      " 'our': 50,\n",
      " 'oust': 22,\n",
      " 'parties;': 45,\n",
      " 'party': 24,\n",
      " 'people': 31,\n",
      " 'public': 54,\n",
      " 'quit': 8,\n",
      " 'rights': 30,\n",
      " 'saffron': 23,\n",
      " 'said': 52,\n",
      " 'secularism': 28,\n",
      " 'slogan,\"': 51,\n",
      " 'the': 1,\n",
      " 'threatened': 33,\n",
      " 'to': 21,\n",
      " 'under': 34,\n",
      " 'we': 39,\n",
      " 'wednesday.': 58,\n",
      " 'west': 11,\n",
      " 'while': 0,\n",
      " 'will': 40,\n",
      " 'with': 42,\n",
      " 'work': 41}\n"
     ]
    }
   ],
   "source": [
    "myObject.print_dictionary()"
   ]
  },
  {
   "cell_type": "code",
   "execution_count": 17,
   "metadata": {
    "collapsed": false,
    "deletable": true,
    "editable": true
   },
   "outputs": [
    {
     "name": "stdout",
     "output_type": "stream",
     "text": [
      "[(1, 1),\n",
      " (7, 1),\n",
      " (8, 1),\n",
      " (9, 1),\n",
      " (11, 1),\n",
      " (15, 1),\n",
      " (27, 1),\n",
      " (28, 1),\n",
      " (29, 1),\n",
      " (30, 1),\n",
      " (31, 1),\n",
      " (32, 1),\n",
      " (33, 1),\n",
      " (34, 1),\n",
      " (35, 1),\n",
      " (36, 1),\n",
      " (37, 2),\n",
      " (38, 1),\n",
      " (39, 1),\n",
      " (40, 2),\n",
      " (41, 1),\n",
      " (42, 1),\n",
      " (43, 1),\n",
      " (44, 1),\n",
      " (45, 1),\n",
      " (46, 1),\n",
      " (47, 2),\n",
      " (48, 1),\n",
      " (49, 1),\n",
      " (50, 1),\n",
      " (51, 1),\n",
      " (52, 1),\n",
      " (53, 1),\n",
      " (54, 1),\n",
      " (55, 1),\n",
      " (56, 1),\n",
      " (57, 1),\n",
      " (58, 1)]\n",
      "[(1, 4), (7, 1), (13, 1), (14, 1), (21, 1), (26, 1), (35, 1)]\n"
     ]
    }
   ],
   "source": [
    "myObject.print_corpus()"
   ]
  },
  {
   "cell_type": "markdown",
   "metadata": {
    "deletable": true,
    "editable": true
   },
   "source": [
    "# Terms used in gensim"
   ]
  },
  {
   "cell_type": "markdown",
   "metadata": {
    "deletable": true,
    "editable": true
   },
   "source": [
    "dictionary - all the words unique id.\n",
    "\n",
    "corpus - it will convert any document or word to id -- with number of accurence of the same.\n",
    "\n",
    "after we get corpus we will convert the sorpus into vector representation using models.TfidfModel\n"
   ]
  }
 ],
 "metadata": {
  "kernelspec": {
   "display_name": "Python 3",
   "language": "python",
   "name": "python3"
  },
  "language_info": {
   "codemirror_mode": {
    "name": "ipython",
    "version": 3
   },
   "file_extension": ".py",
   "mimetype": "text/x-python",
   "name": "python",
   "nbconvert_exporter": "python",
   "pygments_lexer": "ipython3",
   "version": "3.6.1"
  }
 },
 "nbformat": 4,
 "nbformat_minor": 2
}
