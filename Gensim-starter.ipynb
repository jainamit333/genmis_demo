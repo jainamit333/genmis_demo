{
 "cells": [
  {
   "cell_type": "code",
   "execution_count": 47,
   "metadata": {
    "collapsed": true
   },
   "outputs": [],
   "source": [
    "import pandas as pd\n",
    "from gensim import corpora\n",
    "import logging\n",
    "import collections\n",
    "from collections import defaultdict\n",
    "from pprint import pprint\n",
    "from six import iteritems"
   ]
  },
  {
   "cell_type": "code",
   "execution_count": 53,
   "metadata": {
    "collapsed": true
   },
   "outputs": [],
   "source": [
    "dictionary_data = 'data/gensim/dictionary.txt'\n",
    "document_path = 'data/gensim/document.txt'\n",
    "stoplist = set('for a of the and to in'.split())"
   ]
  },
  {
   "cell_type": "code",
   "execution_count": 85,
   "metadata": {
    "collapsed": true
   },
   "outputs": [],
   "source": [
    "#params ->\n",
    "class MyGensimClass:\n",
    "    \n",
    "    dictionary = None;\n",
    "    \n",
    "    def __init__(self,dictionary_data,stoplist):\n",
    "        self.dictionary = corpora.Dictionary(line.lower().split() for line in open(dictionary_data))\n",
    "        stop_ids = [dictionary.token2id[stopword] for stopword in stoplist\n",
    "                   if stopword in dictionary.token2id]\n",
    "        #once_ids = [tokenid for tokenid, docfreq in iteritems(dictionary.dfs) if docfreq == 1]\n",
    "        self.dictionary.filter_tokens(stop_ids)\n",
    "        self.dictionary.compactify()\n",
    "        \n",
    "    def __iter__(self):\n",
    "        for line in open(document_path):\n",
    "            yield self.dictionary.doc2bow(line.lower().split())\n",
    "            \n",
    "    def print_dictionary(self):\n",
    "        print(self.dictionary)\n",
    "        pprint(self.dictionary.token2id);\n",
    "        \n",
    "        \n",
    "    def print_corpus(self):\n",
    "        for vector in self:\n",
    "            pprint(vector)"
   ]
  },
  {
   "cell_type": "code",
   "execution_count": 86,
   "metadata": {},
   "outputs": [],
   "source": [
    "myObject = MyGensimClass(dictionary_data=dictionary_data,stoplist=stoplist)"
   ]
  },
  {
   "cell_type": "code",
   "execution_count": 87,
   "metadata": {},
   "outputs": [
    {
     "name": "stdout",
     "output_type": "stream",
     "text": [
      "Dictionary(59 unique tokens: ['while', 'the', 'nation', 'is', 'commemorating']...)\n",
      "{'\"bjp': 19,\n",
      " '\"democracy,': 27,\n",
      " \"'bjp\": 46,\n",
      " \"2019'\": 48,\n",
      " '75th': 5,\n",
      " 'a': 53,\n",
      " 'all': 43,\n",
      " 'and': 29,\n",
      " 'anniversary': 6,\n",
      " 'are': 32,\n",
      " 'at': 37,\n",
      " 'banerjee': 16,\n",
      " 'be': 49,\n",
      " 'bengal': 12,\n",
      " 'bjp': 35,\n",
      " 'centre.': 38,\n",
      " 'chief': 13,\n",
      " 'commemorating': 4,\n",
      " 'country.': 26,\n",
      " 'from': 25,\n",
      " 'government': 36,\n",
      " 'has': 17,\n",
      " 'in': 47,\n",
      " 'india': 9,\n",
      " 'is': 3,\n",
      " 'launched': 18,\n",
      " 'mamata': 15,\n",
      " 'meeting': 55,\n",
      " 'midnapore': 56,\n",
      " 'minister': 14,\n",
      " 'movement\"': 20,\n",
      " 'movement,': 10,\n",
      " 'nation': 2,\n",
      " 'of': 7,\n",
      " 'on': 57,\n",
      " 'opposition': 44,\n",
      " 'our': 50,\n",
      " 'oust': 22,\n",
      " 'parties;': 45,\n",
      " 'party': 24,\n",
      " 'people': 31,\n",
      " 'public': 54,\n",
      " 'quit': 8,\n",
      " 'rights': 30,\n",
      " 'saffron': 23,\n",
      " 'said': 52,\n",
      " 'secularism': 28,\n",
      " 'slogan,\"': 51,\n",
      " 'the': 1,\n",
      " 'threatened': 33,\n",
      " 'to': 21,\n",
      " 'under': 34,\n",
      " 'we': 39,\n",
      " 'wednesday.': 58,\n",
      " 'west': 11,\n",
      " 'while': 0,\n",
      " 'will': 40,\n",
      " 'with': 42,\n",
      " 'work': 41}\n"
     ]
    }
   ],
   "source": [
    "myObject.print_dictionary()"
   ]
  },
  {
   "cell_type": "code",
   "execution_count": 89,
   "metadata": {},
   "outputs": [
    {
     "name": "stdout",
     "output_type": "stream",
     "text": [
      "[(1, 1),\n",
      " (7, 1),\n",
      " (8, 1),\n",
      " (9, 1),\n",
      " (11, 1),\n",
      " (15, 1),\n",
      " (27, 1),\n",
      " (28, 1),\n",
      " (29, 1),\n",
      " (30, 1),\n",
      " (31, 1),\n",
      " (32, 1),\n",
      " (33, 1),\n",
      " (34, 1),\n",
      " (35, 1),\n",
      " (36, 1),\n",
      " (37, 2),\n",
      " (38, 1),\n",
      " (39, 1),\n",
      " (40, 2),\n",
      " (41, 1),\n",
      " (42, 1),\n",
      " (43, 1),\n",
      " (44, 1),\n",
      " (45, 1),\n",
      " (46, 1),\n",
      " (47, 2),\n",
      " (48, 1),\n",
      " (49, 1),\n",
      " (50, 1),\n",
      " (51, 1),\n",
      " (52, 1),\n",
      " (53, 1),\n",
      " (54, 1),\n",
      " (55, 1),\n",
      " (56, 1),\n",
      " (57, 1),\n",
      " (58, 1)]\n",
      "[(1, 4), (7, 1), (13, 1), (14, 1), (21, 1), (26, 1), (35, 1)]\n"
     ]
    }
   ],
   "source": [
    "myObject.print_corpus()"
   ]
  }
 ],
 "metadata": {
  "kernelspec": {
   "display_name": "Python 3",
   "language": "python",
   "name": "python3"
  },
  "language_info": {
   "codemirror_mode": {
    "name": "ipython",
    "version": 3
   },
   "file_extension": ".py",
   "mimetype": "text/x-python",
   "name": "python",
   "nbconvert_exporter": "python",
   "pygments_lexer": "ipython3",
   "version": "3.6.2"
  }
 },
 "nbformat": 4,
 "nbformat_minor": 2
}
